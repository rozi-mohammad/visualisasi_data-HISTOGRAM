{
 "cells": [
  {
   "cell_type": "code",
   "execution_count": 1,
   "id": "6c749988",
   "metadata": {},
   "outputs": [],
   "source": [
    "%matplotlib inline  #digunakan untuk jupyyter yabng agak lawas "
   ]
  },
  {
   "cell_type": "code",
   "execution_count": 2,
   "id": "e9bc47b3",
   "metadata": {},
   "outputs": [
    {
     "name": "stdout",
     "output_type": "stream",
     "text": [
      "3.3.4\n",
      "1.20.1\n"
     ]
    }
   ],
   "source": [
    "import matplotlib \n",
    "import matplotlib.pyplot as plt\n",
    "import numpy as np\n",
    "\n",
    "print(matplotlib.__version__)\n",
    "print(np.__version__)"
   ]
  },
  {
   "cell_type": "code",
   "execution_count": 3,
   "id": "d718b40e",
   "metadata": {},
   "outputs": [
    {
     "data": {
      "text/plain": [
       "array([118.54129599, 102.89363786,  92.5949473 , ...,  87.36083151,\n",
       "        97.88860936, 100.92962592])"
      ]
     },
     "execution_count": 3,
     "metadata": {},
     "output_type": "execute_result"
    }
   ],
   "source": [
    "mu, sigma = 100, 15 #nilai mean dan nilai standard deviation\n",
    "\n",
    "x = mu + sigma * np.random.randn(10000) #normal distribution\n",
    "x"
   ]
  },
  {
   "cell_type": "code",
   "execution_count": 4,
   "id": "ec4f1d2c",
   "metadata": {},
   "outputs": [
    {
     "data": {
      "text/plain": [
       "(10000,)"
      ]
     },
     "execution_count": 4,
     "metadata": {},
     "output_type": "execute_result"
    }
   ],
   "source": [
    "x.shape"
   ]
  },
  {
   "cell_type": "code",
   "execution_count": 7,
   "id": "d8bbb575",
   "metadata": {},
   "outputs": [
    {
     "data": {
      "image/png": "[encoded data removed]",
      "text/plain": [
       "<Figure size 432x288 with 1 Axes>"
      ]
     },
     "metadata": {
      "needs_background": "light"
     },
     "output_type": "display_data"
    }
   ],
   "source": [
    "plt.hist(x,\n",
    "        bins=50, #dari 10.000 data kita akan membuat 50 klasifikasi data\n",
    "        facecolor='g', # merepresentasikan warna\n",
    "        alpha=0.75)  #mengatur transparency\n",
    "\n",
    "plt.xlabel('sumbu x')\n",
    "plt.ylabel('sumbu y')\n",
    "plt.title('contoh histogram')\n",
    "\n",
    "plt.text(45, 500, r'$\\mu=100,\\ \\sigma=15$') #menampilkan text di dalam histogram\n",
    "plt.grid() # memunculkan grid\n",
    "\n",
    "plt.show()"
   ]
  },
  {
   "cell_type": "code",
   "execution_count": 13,
   "id": "81ae71ad",
   "metadata": {},
   "outputs": [
    {
     "data": {
      "image/png": "[encoded data removed]",
      "text/plain": [
       "<Figure size 432x288 with 1 Axes>"
      ]
     },
     "metadata": {
      "needs_background": "light"
     },
     "output_type": "display_data"
    }
   ],
   "source": [
    "fig, ax = plt.subplots()\n",
    "\n",
    "ax.hist(x,\n",
    "       bins=50,\n",
    "       facecolor='r',\n",
    "       alpha=0.75)\n",
    "\n",
    "ax.set_xlabel('sumbu x')\n",
    "ax.set_ylabel('sumbu y')\n",
    "ax.set_title('contoh histogram')\n",
    "\n",
    "ax.text(45, 500, r'$\\mu=100,\\ \\sigma=15$')\n",
    "ax.grid()\n",
    "\n",
    "plt.show()"
   ]
  },
  {
   "cell_type": "code",
   "execution_count": null,
   "id": "3563d516",
   "metadata": {},
   "outputs": [],
   "source": []
  }
 ],
 "metadata": {
  "kernelspec": {
   "display_name": "Python 3",
   "language": "python",
   "name": "python3"
  },
  "language_info": {
   "codemirror_mode": {
    "name": "ipython",
    "version": 3
   },
   "file_extension": ".py",
   "mimetype": "text/x-python",
   "name": "python",
   "nbconvert_exporter": "python",
   "pygments_lexer": "ipython3",
   "version": "3.8.8"
  }
 },
 "nbformat": 4,
 "nbformat_minor": 5
}
